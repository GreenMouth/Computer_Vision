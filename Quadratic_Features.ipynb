{
 "cells": [
  {
   "cell_type": "code",
   "execution_count": 1,
   "metadata": {},
   "outputs": [],
   "source": [
    "#Author: Prashant Shinde"
   ]
  },
  {
   "cell_type": "code",
   "execution_count": 2,
   "metadata": {},
   "outputs": [],
   "source": [
    "#Input: Number of rows & columns of a 2D metrics (Image Resolution)\n",
    "#Output: Total number of quadratic features possible\n",
    "#For Image, features are intensities of each pixels on the image "
   ]
  },
  {
   "cell_type": "code",
   "execution_count": 3,
   "metadata": {},
   "outputs": [],
   "source": [
    "#Import lib\n",
    "import math\n",
    "import scipy.special"
   ]
  },
  {
   "cell_type": "code",
   "execution_count": 4,
   "metadata": {},
   "outputs": [
    {
     "name": "stdout",
     "output_type": "stream",
     "text": [
      "Enter number of rows for Matrics:50\n",
      "Number of rows are: 50\n",
      "Enter number of columns for Matrics:50\n",
      "Number of columns are: 50\n"
     ]
    }
   ],
   "source": [
    "#Enter PIXEL values\n",
    "x = input('Enter number of rows for Matrics:')\n",
    "x = int(x)\n",
    "print('Number of rows are:', x)\n",
    "\n",
    "y = input('Enter number of columns for Matrics:')\n",
    "y = int(y)\n",
    "print('Number of columns are:', y)"
   ]
  },
  {
   "cell_type": "code",
   "execution_count": 5,
   "metadata": {},
   "outputs": [
    {
     "name": "stdout",
     "output_type": "stream",
     "text": [
      "Binomial Coef Value is: 3123750.0\n"
     ]
    }
   ],
   "source": [
    "#Get Binomial Coefficient\n",
    "bin_product = x*y\n",
    "bin_coe_value = scipy.special.binom(bin_product, 2) #because 2 input feature values\n",
    "print('Binomial Coef Value is:', bin_coe_value)"
   ]
  },
  {
   "cell_type": "code",
   "execution_count": 6,
   "metadata": {},
   "outputs": [
    {
     "name": "stdout",
     "output_type": "stream",
     "text": [
      "Total Linear Features: 2500\n",
      "Total Quadratic Features: 2500\n",
      "Total Binomial Coefficient Features: 3123750.0\n",
      "Total possible features: 3128750.0\n"
     ]
    }
   ],
   "source": [
    "#Get total possible features\n",
    "line_terms = x*y #each pixel in a metrics is a feature value\n",
    "quad_terms = x*y\n",
    "\n",
    "print('Total Linear Features:', line_terms )\n",
    "print('Total Quadratic Features:', quad_terms)\n",
    "print('Total Binomial Coefficient Features:', bin_coe_value)\n",
    "\n",
    "features = line_terms + quad_terms + bin_coe_value\n",
    "print('Total possible features:', features)"
   ]
  },
  {
   "cell_type": "code",
   "execution_count": 7,
   "metadata": {},
   "outputs": [],
   "source": [
    "#grey pixel values (not RGB)\n",
    "#50*50 = 3M\n",
    "#100*100 = 50M\n",
    "#1*2 = 5\n"
   ]
  },
  {
   "cell_type": "code",
   "execution_count": null,
   "metadata": {},
   "outputs": [],
   "source": []
  }
 ],
 "metadata": {
  "kernelspec": {
   "display_name": "Python 3",
   "language": "python",
   "name": "python3"
  },
  "language_info": {
   "codemirror_mode": {
    "name": "ipython",
    "version": 3
   },
   "file_extension": ".py",
   "mimetype": "text/x-python",
   "name": "python",
   "nbconvert_exporter": "python",
   "pygments_lexer": "ipython3",
   "version": "3.7.3"
  }
 },
 "nbformat": 4,
 "nbformat_minor": 2
}
