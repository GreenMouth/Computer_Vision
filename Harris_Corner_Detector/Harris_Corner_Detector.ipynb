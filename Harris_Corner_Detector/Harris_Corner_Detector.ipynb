{
 "cells": [
  {
   "cell_type": "raw",
   "metadata": {},
   "source": [
    "Goal: Find all 8 corners of the Octagon\n",
    "Requirement: Python 3\n",
    "Date: March 7th, 2020\n"
   ]
  },
  {
   "cell_type": "code",
   "execution_count": 1,
   "metadata": {},
   "outputs": [
    {
     "name": "stdout",
     "output_type": "stream",
     "text": [
      "/Users/shinde/Desktop\n"
     ]
    },
    {
     "data": {
      "text/plain": [
       "True"
      ]
     },
     "execution_count": 1,
     "metadata": {},
     "output_type": "execute_result"
    }
   ],
   "source": [
    "import os\n",
    "print(os.getcwd())\n",
    "\n",
    "import numpy as np\n",
    "import cv2\n",
    "\n",
    "#Read image\n",
    "img = cv2.imread(\"octagon.png\")\n",
    "img_gray = cv2.cvtColor(img, cv2.COLOR_BGR2GRAY) if len(img.shape) == 3 else img\n",
    "cv2.imwrite(\"gray_octagon.png\", img_gray)\n"
   ]
  },
  {
   "cell_type": "code",
   "execution_count": 2,
   "metadata": {},
   "outputs": [],
   "source": [
    "\"\"\"Harris Corner Detection\"\"\"\n",
    "\n",
    "def find_corners(img):\n",
    "    \"\"\"Find corners in an image using Harris corner detection method.\"\"\"\n",
    "    \n",
    "    # Convert to grayscale, if necessary\n",
    "    img_gray = cv2.cvtColor(img, cv2.COLOR_BGR2GRAY) if len(img.shape) == 3 else img\n",
    "    \n",
    "    # Compute Harris corner detector response (params: block size, Sobel aperture, Harris alpha)\n",
    "    h_response = cv2.cornerHarris(img_gray, 4, 5, 0.04) #play with 4,5 values (ideal values to detect all 8 corners)\n",
    "    \n",
    "    # Display Harris response image\n",
    "    h_min, h_max, _, _ = cv2.minMaxLoc(h_response)  # for thresholding, display scaling\n",
    "    #cv2.imshow(\"Harris response\", np.uint8((h_response - h_min) * (255.0 / (h_max - h_min))))\n",
    "    cv2.imwrite(\"Harris_response.png\", np.uint8((h_response - h_min) * (255.0 / (h_max - h_min))))\n",
    "\n",
    "    # Select corner pixels above threshold\n",
    "    h_thresh = 0.01 * h_max\n",
    "    _, h_selected = cv2.threshold(h_response, h_thresh, 1, cv2.THRESH_TOZERO)\n",
    "\n",
    "    # Pick corner pixels that are local maxima\n",
    "    nhood_size = 5  # neighborhood size for non-maximal suppression (odd)\n",
    "    nhood_r = int(nhood_size / 2)  # neighborhood radius = size / 2\n",
    "    corners = []  # list of corner locations as (x, y, response) tuples\n",
    "    for y in range(h_selected.shape[0]):\n",
    "        for x in range(h_selected.shape[1]):\n",
    "            if h_selected.item(y, x):\n",
    "                h_value = h_selected.item(y, x)  # response value at (x, y)\n",
    "                nhood = h_selected[(y - nhood_r):(y + nhood_r + 1), (x - nhood_r):(x + nhood_r + 1)]\n",
    "                if not nhood.size:\n",
    "                    continue  # skip empty neighborhoods (which can happen at edges)\n",
    "                local_max = np.amax(nhood)  # compute neighborhood maximum\n",
    "                if h_value == local_max:\n",
    "                    corners.append((x, y, h_value))  # add to list of corners\n",
    "                    h_selected[(y - nhood_r):(y + nhood_r), (x - nhood_r):(x + nhood_r)] = 0  # clear\n",
    "                    h_selected.itemset((y, x), h_value)  # retain maxima value to suppress others\n",
    "\n",
    "    h_suppressed = np.uint8((h_selected - h_thresh) * (255.0 / (h_max - h_thresh)))\n",
    "    cv2.imwrite(\"Suppressed_Harris_response.png\", h_suppressed)\n",
    "    return corners\n"
   ]
  },
  {
   "cell_type": "code",
   "execution_count": 3,
   "metadata": {},
   "outputs": [],
   "source": [
    "def test():\n",
    "    \"\"\"Test find_corners() with sample input.\"\"\"\n",
    "    \n",
    "    # Read image\n",
    "    img = cv2.imread(\"octagon.png\")\n",
    "    #cv2.imwrite(\"Save_sameImage.png\", img)\n",
    "\n",
    "    # Find corners\n",
    "    corners = find_corners(img)\n",
    "    print(\"\\n\".join(\"{} {}\".format(corner[0], corner[1]) for corner in corners))\n",
    "\n",
    "    # Display output image with corners highlighted\n",
    "    img_out = img.copy()\n",
    "    for (x, y, resp) in corners:\n",
    "        cv2.circle(img_out, (x, y), 1, (0, 0, 255), -1)  # red dot (BGR)\n",
    "        cv2.circle(img_out, (x, y), 5, (0, 255, 0), 1)  # green circle\n",
    "    #cv2.imshow(\"Output\", img_out)\n",
    "    cv2.imwrite(\"All_Corners_Detected.png\", img_out)\n"
   ]
  },
  {
   "cell_type": "code",
   "execution_count": 4,
   "metadata": {},
   "outputs": [
    {
     "name": "stdout",
     "output_type": "stream",
     "text": [
      "51 5\n",
      "117 5\n",
      "6 50\n",
      "162 50\n",
      "159 51\n",
      "6 116\n",
      "162 116\n",
      "51 161\n",
      "117 161\n"
     ]
    }
   ],
   "source": [
    "test()"
   ]
  },
  {
   "cell_type": "code",
   "execution_count": null,
   "metadata": {},
   "outputs": [],
   "source": []
  }
 ],
 "metadata": {
  "kernelspec": {
   "display_name": "Python 3",
   "language": "python",
   "name": "python3"
  },
  "language_info": {
   "codemirror_mode": {
    "name": "ipython",
    "version": 3
   },
   "file_extension": ".py",
   "mimetype": "text/x-python",
   "name": "python",
   "nbconvert_exporter": "python",
   "pygments_lexer": "ipython3",
   "version": "3.7.4"
  }
 },
 "nbformat": 4,
 "nbformat_minor": 2
}
